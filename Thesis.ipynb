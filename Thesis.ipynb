{
 "cells": [
  {
   "cell_type": "code",
   "execution_count": 1,
   "metadata": {},
   "outputs": [],
   "source": [
    "# import libraries\n",
    "import numpy as np\n",
    "import pandas as pd\n",
    "import matplotlib.pyplot as plt\n",
    "import seaborn as sns\n",
    "import time\n",
    "from sklearn.metrics import accuracy_score   # classifiers prediction data and testing output data\n",
    "                                             # will give you the accuracy of each classifier and you have\n",
    "                                             # to compare between them\n",
    "        \n",
    "import xlsxwriter   # excel writer  \n",
    "import shutil   # shutil to copy file to a new directory\n",
    "\n",
    "from sklearn import preprocessing\n"
   ]
  },
  {
   "cell_type": "code",
   "execution_count": 2,
   "metadata": {},
   "outputs": [],
   "source": [
    "from warnings import simplefilter # ignore warnings when run\n",
    "simplefilter(action='ignore', category=FutureWarning)\n",
    "\n",
    "\n"
   ]
  },
  {
   "cell_type": "markdown",
   "metadata": {},
   "source": [
    "#  dataset called and cleaning (Make sure target file not opened)"
   ]
  },
  {
   "cell_type": "code",
   "execution_count": 3,
   "metadata": {
    "scrolled": false
   },
   "outputs": [
    {
     "ename": "PermissionError",
     "evalue": "[Errno 13] Permission denied: 'A:\\\\My Files\\\\UniversityMasterFall2020\\\\MSThesis\\\\progress\\\\code\\\\AILAB\\\\Thesis\\\\Data\\\\MUSE_20180111_155709_17000.csv'",
     "output_type": "error",
     "traceback": [
      "\u001b[1;31m---------------------------------------------------------------------------\u001b[0m",
      "\u001b[1;31mPermissionError\u001b[0m                           Traceback (most recent call last)",
      "\u001b[1;32m<ipython-input-3-b45e8da8f9ef>\u001b[0m in \u001b[0;36m<module>\u001b[1;34m\u001b[0m\n\u001b[0;32m     57\u001b[0m     \u001b[1;31m#print(original)\u001b[0m\u001b[1;33m\u001b[0m\u001b[1;33m\u001b[0m\u001b[1;33m\u001b[0m\u001b[0m\n\u001b[0;32m     58\u001b[0m     \u001b[0mtarget\u001b[0m \u001b[1;33m=\u001b[0m \u001b[1;34mr'A:\\My Files\\UniversityMasterFall2020\\MSThesis\\progress\\code\\AILAB\\Thesis\\Data'\u001b[0m\u001b[1;33m+\u001b[0m\u001b[0mfile\u001b[0m\u001b[1;33m\u001b[0m\u001b[1;33m\u001b[0m\u001b[0m\n\u001b[1;32m---> 59\u001b[1;33m     \u001b[0mshutil\u001b[0m\u001b[1;33m.\u001b[0m\u001b[0mcopyfile\u001b[0m\u001b[1;33m(\u001b[0m\u001b[0moriginal\u001b[0m\u001b[1;33m,\u001b[0m \u001b[0mtarget\u001b[0m\u001b[1;33m)\u001b[0m\u001b[1;33m\u001b[0m\u001b[1;33m\u001b[0m\u001b[0m\n\u001b[0m\u001b[0;32m     60\u001b[0m \u001b[1;33m\u001b[0m\u001b[0m\n\u001b[0;32m     61\u001b[0m \u001b[1;33m\u001b[0m\u001b[0m\n",
      "\u001b[1;32mA:\\Programs File\\Anaconda\\lib\\shutil.py\u001b[0m in \u001b[0;36mcopyfile\u001b[1;34m(src, dst, follow_symlinks)\u001b[0m\n\u001b[0;32m    119\u001b[0m     \u001b[1;32melse\u001b[0m\u001b[1;33m:\u001b[0m\u001b[1;33m\u001b[0m\u001b[1;33m\u001b[0m\u001b[0m\n\u001b[0;32m    120\u001b[0m         \u001b[1;32mwith\u001b[0m \u001b[0mopen\u001b[0m\u001b[1;33m(\u001b[0m\u001b[0msrc\u001b[0m\u001b[1;33m,\u001b[0m \u001b[1;34m'rb'\u001b[0m\u001b[1;33m)\u001b[0m \u001b[1;32mas\u001b[0m \u001b[0mfsrc\u001b[0m\u001b[1;33m:\u001b[0m\u001b[1;33m\u001b[0m\u001b[1;33m\u001b[0m\u001b[0m\n\u001b[1;32m--> 121\u001b[1;33m             \u001b[1;32mwith\u001b[0m \u001b[0mopen\u001b[0m\u001b[1;33m(\u001b[0m\u001b[0mdst\u001b[0m\u001b[1;33m,\u001b[0m \u001b[1;34m'wb'\u001b[0m\u001b[1;33m)\u001b[0m \u001b[1;32mas\u001b[0m \u001b[0mfdst\u001b[0m\u001b[1;33m:\u001b[0m\u001b[1;33m\u001b[0m\u001b[1;33m\u001b[0m\u001b[0m\n\u001b[0m\u001b[0;32m    122\u001b[0m                 \u001b[0mcopyfileobj\u001b[0m\u001b[1;33m(\u001b[0m\u001b[0mfsrc\u001b[0m\u001b[1;33m,\u001b[0m \u001b[0mfdst\u001b[0m\u001b[1;33m)\u001b[0m\u001b[1;33m\u001b[0m\u001b[1;33m\u001b[0m\u001b[0m\n\u001b[0;32m    123\u001b[0m     \u001b[1;32mreturn\u001b[0m \u001b[0mdst\u001b[0m\u001b[1;33m\u001b[0m\u001b[1;33m\u001b[0m\u001b[0m\n",
      "\u001b[1;31mPermissionError\u001b[0m: [Errno 13] Permission denied: 'A:\\\\My Files\\\\UniversityMasterFall2020\\\\MSThesis\\\\progress\\\\code\\\\AILAB\\\\Thesis\\\\Data\\\\MUSE_20180111_155709_17000.csv'"
     ]
    }
   ],
   "source": [
    "#load the data\n",
    "\n",
    "#data = pd.ExcelFile(\"Diagnostics.xlsx\")\n",
    "workbook = xlsxwriter.Workbook('target.xlsx')\n",
    "worksheet = workbook.add_worksheet('Data')\n",
    "data = pd.read_excel(\"Diagnostics.xlsx\")\n",
    "data\n",
    "#  \n",
    "cell_format = workbook.add_format({'bold': True})\n",
    "cell_formatAlign = workbook.add_format({'align': 'center'})\n",
    "worksheet.write(0, 0, 'FileName',cell_format )\n",
    "worksheet.write(0, 1, 'Rhythm', cell_format)\n",
    "worksheet.write(0, 2, 'RhythmEncoded', cell_format)\n",
    "y = np.array(data['Rhythm'])  \n",
    "fileName = np.array(data['FileName'])   \n",
    "\n",
    "# Encode the labels(Target) >> here will be encoded everything in rhythm\n",
    "rhythmForSASB = np.array([\"SB\", \"SA\"])  # can be>> rhythmForSASB = np.array(data[\"Rhythm\"])\n",
    "le = preprocessing.LabelEncoder()\n",
    "le.fit(rhythmForSASB)\n",
    "countSB=0\n",
    "countSA=0\n",
    "countrowInsideXlsxFile=1 # without this some rows will be empty >>>>> 1 because after the title(second row)\n",
    "for i in range(len(y)):\n",
    "    if(y[i] == 'SB'):\n",
    "        #print(fileName[i])\n",
    "        \n",
    "        countSB+=1\n",
    "        worksheet.write(countrowInsideXlsxFile, 0,     fileName[i])\n",
    "        worksheet.write(countrowInsideXlsxFile, 1,     'SB' , cell_formatAlign)\n",
    "        worksheet.write(countrowInsideXlsxFile, 2,     le.transform(['SB'])[0] , cell_formatAlign) # will return the encoded value\n",
    "            \n",
    "        countrowInsideXlsxFile+=1\n",
    "    elif(y[i] == 'SA'):\n",
    "        #print(fileName[i])\n",
    "        countSA+=1\n",
    "        worksheet.write(countrowInsideXlsxFile, 0,     fileName[i])\n",
    "        worksheet.write(countrowInsideXlsxFile, 1,     'SA', cell_formatAlign) \n",
    "        worksheet.write(countrowInsideXlsxFile, 2,     le.transform(['SA'])[0] , cell_formatAlign) # will return the encoded value\n",
    "        countrowInsideXlsxFile+=1\n",
    "        \n",
    "worksheet2 = workbook.add_worksheet('total')  \n",
    "worksheet2.write(0, 0, 'SB')\n",
    "worksheet2.write(0, 1, 'SA')\n",
    "worksheet2.write(1, 0, countSB)   \n",
    "worksheet2.write(1, 1, countSA)   \n",
    "# worksheet2.close()\n",
    "workbook.close()    \n",
    "\n",
    "\n",
    "\n",
    "dataToNewXlsx = pd.read_excel(\"target.xlsx\")\n",
    "fileName = np.array(dataToNewXlsx['FileName']) \n",
    "for i in range(len(fileName)):\n",
    "    file=  '\\\\' + fileName[i]+'.csv'  # double Backslashs because python doesnt except only '\\'\n",
    "    original = r'A:\\My Files\\UniversityMasterFall2020\\MSThesis\\progress\\code\\AILAB\\Thesis\\ECGDataDenoised'+file\n",
    "    #print(original)\n",
    "    target = r'A:\\My Files\\UniversityMasterFall2020\\MSThesis\\progress\\code\\AILAB\\Thesis\\Data'+file\n",
    "    shutil.copyfile(original, target)\n",
    "    \n",
    "    \n",
    "        \n",
    "\n",
    "\n",
    "\n",
    "\n",
    "    \n",
    "    \n",
    "# data.drop(['id'], 1, inplace=True)      # drop id column, by column name\n",
    "\n",
    "# X = np.array(data.drop(['class'], 1))   # drop only class column and keep the others for x\n",
    "# y = np.array(data['class'])             # keep only column name class(target)  without the other columns for y\n",
    "\n",
    "\n"
   ]
  },
  {
   "cell_type": "code",
   "execution_count": null,
   "metadata": {},
   "outputs": [],
   "source": [
    "\n",
    "# le.transform([\"tokyo\", \"tokyo\", \"paris\"])\n",
    "\n",
    "\n",
    "# X = dataForTraining[['protocol_type','service', 'flag']]\n",
    "# cols_X = y.select_dtypes(include=['object']).copy()\n",
    "# train_X = cols_X.apply(le.fit_transform)\n"
   ]
  },
  {
   "cell_type": "markdown",
   "metadata": {},
   "source": [
    "# Splitting the data to testing and training "
   ]
  },
  {
   "cell_type": "code",
   "execution_count": null,
   "metadata": {},
   "outputs": [],
   "source": [
    "\n",
    "# first way \n",
    "# train_test_split  will split the data into train, test...etc  and the test data 20% (0.2)\n",
    "# and training data the rest 80%\n",
    "from sklearn.model_selection import train_test_split \n",
    "train, test, trainOutputData, testOutputData = train_test_split(X, y, test_size=0.2)\n",
    "\n",
    "\n",
    "#second way \n",
    "from sklearn.model_selection import cross_val_score\n",
    "#scores = cross_val_score(classifierName, X, y, cv=5)   #  Kfold(cv) =5  will split the data to 5 splits\n",
    "# we are going to use this in every classifier\n",
    "\n",
    "\n"
   ]
  },
  {
   "cell_type": "code",
   "execution_count": null,
   "metadata": {},
   "outputs": [],
   "source": [
    "\n",
    "\n",
    "\n",
    "# 1-Initialize GaussianNB Classifier\n",
    "from sklearn.naive_bayes import GaussianNB\n",
    "start = time.time()\n",
    "model = GaussianNB()  # you can modify GaussianNB(priors=None, var_smoothing=1e-09) (shift+tab)\n",
    "model.fit(train, trainOutputData)\n",
    "prediction = model.predict(test)  # not used\n",
    "scores = cross_val_score(model, X, y, cv=5)\n",
    "end = time.time()\n",
    "\n",
    "print(\"1-GaussianNB model score : \",model.score(test,testOutputData))\n",
    "print(\"  GaussianNB model score%:  {0:.2%}: \\n\".format(model.score(test,testOutputData)))\n",
    "print(\"  GaussianNB accuracy_score  : \",accuracy_score(prediction,testOutputData))\n",
    "print(\"  GaussianNB accuracy_score% :  {0:.2%} \\n\".format(accuracy_score(prediction,testOutputData)))\n",
    "print(\"  Cross validation score: {0:.2%} \" .format(np.mean(scores)))\n",
    "print(\"  Execution time: {0:.5} seconds \\n\".format(end-start))\n",
    "\n"
   ]
  },
  {
   "cell_type": "code",
   "execution_count": null,
   "metadata": {},
   "outputs": [],
   "source": [
    "\n",
    "\n",
    "\n",
    "# 2-Initialize Dummy Classifier\n",
    "from sklearn.dummy import DummyClassifier\n",
    "start = time.time()\n",
    "model = DummyClassifier()  # you can modify DummyClassifier(.......) (shift+tab)\n",
    "model.fit(train, trainOutputData)\n",
    "prediction = model.predict(test) \n",
    "scores = cross_val_score(model, X, y, cv=5)\n",
    "end = time.time()\n",
    "\n",
    "\n",
    "print(\"2-Dummy model score : \",model.score(prediction,testOutputData))\n",
    "print(\"  Dummy model score%:  {0:.2%}: \\n\".format(model.score(prediction,testOutputData)))\n",
    "print(\"  Dummy accuracy_score  : \",accuracy_score(prediction,testOutputData))\n",
    "print(\"  Dummy accuracy_score% :  {0:.2%} \\n\".format(accuracy_score(prediction,testOutputData)))\n",
    "print(\"  Cross validation score: {0:.2%} \" .format(np.mean(scores)))\n",
    "print(\"  Execution time: {0:.5} seconds \\n\".format(end-start))\n",
    "\n",
    "\n"
   ]
  },
  {
   "cell_type": "code",
   "execution_count": null,
   "metadata": {},
   "outputs": [],
   "source": [
    "\n",
    "\n",
    "\n",
    "# 3-Initialize KNeighbors Classifier\n",
    "from sklearn import  neighbors\n",
    "start = time.time()\n",
    "model = neighbors.KNeighborsClassifier() # you can modify neighbors.KNeighborsClassifier(...) (shift+tab)\n",
    "model.fit(train, trainOutputData)\n",
    "prediction = model.predict(test)  \n",
    "scores = cross_val_score(model, X, y, cv=5)\n",
    "end = time.time()\n",
    "\n",
    "\n",
    "print(\"3-KNeighbors model score : \",model.score(test,testOutputData))\n",
    "print(\"  KNeighbors model score%:  {0:.2%}: \\n\".format(model.score(test,testOutputData)))\n",
    "print(\"  KNeighbors accuracy_score  : \",accuracy_score(prediction,testOutputData))\n",
    "print(\"  KNeighbors accuracy_score% :  {0:.2%} \\n\".format(accuracy_score(prediction,testOutputData)))\n",
    "print(\"  Cross validation score: {0:.2%} \" .format(np.mean(scores)))\n",
    "print(\"  Execution time: {0:.5} seconds \\n\".format(end-start))\n",
    "\n",
    "\n"
   ]
  },
  {
   "cell_type": "code",
   "execution_count": null,
   "metadata": {},
   "outputs": [],
   "source": [
    "\n",
    "\n",
    "\n",
    "# 4-Initialize RandomForest Classifier\n",
    "from sklearn.ensemble import RandomForestClassifier  \n",
    "start = time.time()\n",
    "model = RandomForestClassifier()  # you can modify RandomForestClassifier(.......) (shift+tab)\n",
    "model.fit(train, trainOutputData)\n",
    "prediction = model.predict(test)  \n",
    "scores = cross_val_score(model, X, y, cv=5)\n",
    "end = time.time()\n",
    "\n",
    "\n",
    "print(\"4-RandomForest model score : \",model.score(test,testOutputData))\n",
    "print(\"  RandomForest model score%:  {0:.2%}: \\n\".format(model.score(test,testOutputData)))\n",
    "print(\"  RandomForest accuracy_score  : \",accuracy_score(prediction,testOutputData))\n",
    "print(\"  RandomForest accuracy_score% :  {0:.2%} \\n\".format(accuracy_score(prediction,testOutputData)))\n",
    "print(\"  Cross validation score: {0:.2%} \" .format(np.mean(scores)))\n",
    "print(\"  Execution time: {0:.5} seconds \\n\".format(end-start))\n",
    "\n",
    "\n"
   ]
  },
  {
   "cell_type": "code",
   "execution_count": 197,
   "metadata": {},
   "outputs": [
    {
     "name": "stdout",
     "output_type": "stream",
     "text": [
      "5-LogisticRegression model score :  0.9142857142857143\n",
      "  LogisticRegression model score%:  91.43%: \n",
      "\n",
      "  LogisticRegression accuracy_score  :  0.9142857142857143\n",
      "  LogisticRegression accuracy_score% :  91.43% \n",
      "\n",
      "  Cross validation score: 92.00% \n",
      "  Execution time: 0.11795 seconds \n",
      "\n"
     ]
    },
    {
     "name": "stderr",
     "output_type": "stream",
     "text": [
      "A:\\Programs File\\Anaconda\\lib\\site-packages\\sklearn\\linear_model\\_logistic.py:940: ConvergenceWarning: lbfgs failed to converge (status=1):\n",
      "STOP: TOTAL NO. of ITERATIONS REACHED LIMIT.\n",
      "\n",
      "Increase the number of iterations (max_iter) or scale the data as shown in:\n",
      "    https://scikit-learn.org/stable/modules/preprocessing.html\n",
      "Please also refer to the documentation for alternative solver options:\n",
      "    https://scikit-learn.org/stable/modules/linear_model.html#logistic-regression\n",
      "  extra_warning_msg=_LOGISTIC_SOLVER_CONVERGENCE_MSG)\n",
      "A:\\Programs File\\Anaconda\\lib\\site-packages\\sklearn\\linear_model\\_logistic.py:940: ConvergenceWarning: lbfgs failed to converge (status=1):\n",
      "STOP: TOTAL NO. of ITERATIONS REACHED LIMIT.\n",
      "\n",
      "Increase the number of iterations (max_iter) or scale the data as shown in:\n",
      "    https://scikit-learn.org/stable/modules/preprocessing.html\n",
      "Please also refer to the documentation for alternative solver options:\n",
      "    https://scikit-learn.org/stable/modules/linear_model.html#logistic-regression\n",
      "  extra_warning_msg=_LOGISTIC_SOLVER_CONVERGENCE_MSG)\n",
      "A:\\Programs File\\Anaconda\\lib\\site-packages\\sklearn\\linear_model\\_logistic.py:940: ConvergenceWarning: lbfgs failed to converge (status=1):\n",
      "STOP: TOTAL NO. of ITERATIONS REACHED LIMIT.\n",
      "\n",
      "Increase the number of iterations (max_iter) or scale the data as shown in:\n",
      "    https://scikit-learn.org/stable/modules/preprocessing.html\n",
      "Please also refer to the documentation for alternative solver options:\n",
      "    https://scikit-learn.org/stable/modules/linear_model.html#logistic-regression\n",
      "  extra_warning_msg=_LOGISTIC_SOLVER_CONVERGENCE_MSG)\n",
      "A:\\Programs File\\Anaconda\\lib\\site-packages\\sklearn\\linear_model\\_logistic.py:940: ConvergenceWarning: lbfgs failed to converge (status=1):\n",
      "STOP: TOTAL NO. of ITERATIONS REACHED LIMIT.\n",
      "\n",
      "Increase the number of iterations (max_iter) or scale the data as shown in:\n",
      "    https://scikit-learn.org/stable/modules/preprocessing.html\n",
      "Please also refer to the documentation for alternative solver options:\n",
      "    https://scikit-learn.org/stable/modules/linear_model.html#logistic-regression\n",
      "  extra_warning_msg=_LOGISTIC_SOLVER_CONVERGENCE_MSG)\n",
      "A:\\Programs File\\Anaconda\\lib\\site-packages\\sklearn\\linear_model\\_logistic.py:940: ConvergenceWarning: lbfgs failed to converge (status=1):\n",
      "STOP: TOTAL NO. of ITERATIONS REACHED LIMIT.\n",
      "\n",
      "Increase the number of iterations (max_iter) or scale the data as shown in:\n",
      "    https://scikit-learn.org/stable/modules/preprocessing.html\n",
      "Please also refer to the documentation for alternative solver options:\n",
      "    https://scikit-learn.org/stable/modules/linear_model.html#logistic-regression\n",
      "  extra_warning_msg=_LOGISTIC_SOLVER_CONVERGENCE_MSG)\n",
      "A:\\Programs File\\Anaconda\\lib\\site-packages\\sklearn\\linear_model\\_logistic.py:940: ConvergenceWarning: lbfgs failed to converge (status=1):\n",
      "STOP: TOTAL NO. of ITERATIONS REACHED LIMIT.\n",
      "\n",
      "Increase the number of iterations (max_iter) or scale the data as shown in:\n",
      "    https://scikit-learn.org/stable/modules/preprocessing.html\n",
      "Please also refer to the documentation for alternative solver options:\n",
      "    https://scikit-learn.org/stable/modules/linear_model.html#logistic-regression\n",
      "  extra_warning_msg=_LOGISTIC_SOLVER_CONVERGENCE_MSG)\n"
     ]
    }
   ],
   "source": [
    "\n",
    "\n",
    "\n",
    "# 5-Initialize LogisticRegression Classifier                                                        \n",
    "from sklearn.linear_model import LogisticRegression\n",
    "start = time.time()\n",
    "model = LogisticRegression()  # you can modify LogisticRegression(.......) (shift+tab)              \n",
    "model.fit(train, trainOutputData)\n",
    "prediction = model.predict(test)  \n",
    "scores = cross_val_score(model, X, y, cv=5)\n",
    "end = time.time()\n",
    "\n",
    "\n",
    "print(\"5-LogisticRegression model score : \",model.score(test,testOutputData))                       \n",
    "print(\"  LogisticRegression model score%:  {0:.2%}: \\n\".format(model.score(test,testOutputData)))   \n",
    "print(\"  LogisticRegression accuracy_score  : \",accuracy_score(prediction,testOutputData))          \n",
    "print(\"  LogisticRegression accuracy_score% :  {0:.2%} \\n\".format(accuracy_score(prediction,testOutputData)))\n",
    "print(\"  Cross validation score: {0:.2%} \" .format(np.mean(scores)))\n",
    "print(\"  Execution time: {0:.5} seconds \\n\".format(end-start))\n",
    "\n",
    "\n",
    "\n",
    "\n"
   ]
  },
  {
   "cell_type": "code",
   "execution_count": 198,
   "metadata": {},
   "outputs": [
    {
     "name": "stdout",
     "output_type": "stream",
     "text": [
      "6-SVC model score :  0.6642857142857143\n",
      "  SVC model score%:  66.43%: \n",
      "\n",
      "  SVC accuracy_score  :  0.6642857142857143\n",
      "  SVC accuracy_score% :  66.43% \n",
      "\n",
      "  Cross validation score: 65.52% \n",
      "  Execution time: 0.043882 seconds \n",
      "\n"
     ]
    }
   ],
   "source": [
    "\n",
    "\n",
    "\n",
    "# 6-Initialize Support Vector Machine Classifier                                                     \n",
    "from sklearn.svm import SVC\n",
    "start = time.time()\n",
    "model = SVC()                          # you can modify NuSVC(.......) (shift+tab)          \n",
    "model.fit(train, trainOutputData)\n",
    "prediction = model.predict(test)  \n",
    "scores = cross_val_score(model, X, y, cv=5)\n",
    "end = time.time()\n",
    "\n",
    "\n",
    "print(\"6-SVC model score : \",model.score(test,testOutputData))                      \n",
    "print(\"  SVC model score%:  {0:.2%}: \\n\".format(model.score(test,testOutputData)))   \n",
    "print(\"  SVC accuracy_score  : \",accuracy_score(prediction,testOutputData))          \n",
    "print(\"  SVC accuracy_score% :  {0:.2%} \\n\".format(accuracy_score(prediction,testOutputData)))\n",
    "print(\"  Cross validation score: {0:.2%} \" .format(np.mean(scores)))\n",
    "print(\"  Execution time: {0:.5} seconds \\n\".format(end-start))\n",
    "\n",
    "\n",
    "\n",
    "\n"
   ]
  },
  {
   "cell_type": "code",
   "execution_count": 199,
   "metadata": {},
   "outputs": [
    {
     "name": "stdout",
     "output_type": "stream",
     "text": [
      "7-NuSVC model score :  0.9357142857142857\n",
      "  NuSVC model score%:  93.57%: \n",
      "\n",
      "  NuSVC accuracy_score  :  0.9357142857142857\n",
      "  NuSVC accuracy_score% :  93.57% \n",
      "\n",
      "  Cross validation score: 92.56% \n",
      "  Execution time: 0.037899 seconds \n",
      "\n"
     ]
    }
   ],
   "source": [
    "\n",
    "\n",
    "\n",
    "# 7-Initialize  NuSVC Support Vector Machine Classifier                                     \n",
    "from sklearn.svm import NuSVC\n",
    "start = time.time()\n",
    "model = NuSVC()                            # you can modify NuSVC(.......) (shift+tab)          \n",
    "model.fit(train, trainOutputData)\n",
    "prediction = model.predict(test)  \n",
    "scores = cross_val_score(model, X, y, cv=5)\n",
    "end = time.time()\n",
    "\n",
    "\n",
    "print(\"7-NuSVC model score : \",model.score(test,testOutputData))                    \n",
    "print(\"  NuSVC model score%:  {0:.2%}: \\n\".format(model.score(test,testOutputData)))   \n",
    "print(\"  NuSVC accuracy_score  : \",accuracy_score(prediction,testOutputData))          \n",
    "print(\"  NuSVC accuracy_score% :  {0:.2%} \\n\".format(accuracy_score(prediction,testOutputData)))\n",
    "print(\"  Cross validation score: {0:.2%} \" .format(np.mean(scores)))\n",
    "print(\"  Execution time: {0:.5} seconds \\n\".format(end-start))\n",
    "\n",
    "\n",
    "\n",
    "\n"
   ]
  },
  {
   "cell_type": "code",
   "execution_count": 200,
   "metadata": {},
   "outputs": [
    {
     "name": "stdout",
     "output_type": "stream",
     "text": [
      "8-LinearSVC model score :  0.95\n",
      "  LinearSVC model score%:  95.00%: \n",
      "\n",
      "  LinearSVC accuracy_score  :  0.95\n",
      "  LinearSVC accuracy_score% :  95.00% \n",
      "\n",
      "  Cross validation score: 96.28% \n",
      "  Execution time: 0.064826 seconds \n",
      "\n"
     ]
    },
    {
     "name": "stderr",
     "output_type": "stream",
     "text": [
      "A:\\Programs File\\Anaconda\\lib\\site-packages\\sklearn\\svm\\_base.py:947: ConvergenceWarning: Liblinear failed to converge, increase the number of iterations.\n",
      "  \"the number of iterations.\", ConvergenceWarning)\n",
      "A:\\Programs File\\Anaconda\\lib\\site-packages\\sklearn\\svm\\_base.py:947: ConvergenceWarning: Liblinear failed to converge, increase the number of iterations.\n",
      "  \"the number of iterations.\", ConvergenceWarning)\n",
      "A:\\Programs File\\Anaconda\\lib\\site-packages\\sklearn\\svm\\_base.py:947: ConvergenceWarning: Liblinear failed to converge, increase the number of iterations.\n",
      "  \"the number of iterations.\", ConvergenceWarning)\n",
      "A:\\Programs File\\Anaconda\\lib\\site-packages\\sklearn\\svm\\_base.py:947: ConvergenceWarning: Liblinear failed to converge, increase the number of iterations.\n",
      "  \"the number of iterations.\", ConvergenceWarning)\n",
      "A:\\Programs File\\Anaconda\\lib\\site-packages\\sklearn\\svm\\_base.py:947: ConvergenceWarning: Liblinear failed to converge, increase the number of iterations.\n",
      "  \"the number of iterations.\", ConvergenceWarning)\n",
      "A:\\Programs File\\Anaconda\\lib\\site-packages\\sklearn\\svm\\_base.py:947: ConvergenceWarning: Liblinear failed to converge, increase the number of iterations.\n",
      "  \"the number of iterations.\", ConvergenceWarning)\n"
     ]
    }
   ],
   "source": [
    "\n",
    "\n",
    "\n",
    "\n",
    "# 8-Initialize LinearSVC Support Vector Machine Classifier                  \n",
    "from sklearn.svm import LinearSVC\n",
    "start = time.time()\n",
    "model = LinearSVC()                            # you can modify LinearSVC(.......) (shift+tab)  \n",
    "model.fit(train, trainOutputData)\n",
    "prediction = model.predict(test)  \n",
    "scores = cross_val_score(model, X, y, cv=5)\n",
    "end = time.time()\n",
    "\n",
    "\n",
    "print(\"8-LinearSVC model score : \",model.score(test,testOutputData))                    \n",
    "print(\"  LinearSVC model score%:  {0:.2%}: \\n\".format(model.score(test,testOutputData)))\n",
    "print(\"  LinearSVC accuracy_score  : \",accuracy_score(prediction,testOutputData))       \n",
    "print(\"  LinearSVC accuracy_score% :  {0:.2%} \\n\".format(accuracy_score(prediction,testOutputData)))\n",
    "print(\"  Cross validation score: {0:.2%} \" .format(np.mean(scores)))\n",
    "print(\"  Execution time: {0:.5} seconds \\n\".format(end-start))\n",
    "\n",
    "\n",
    "\n",
    "\n"
   ]
  },
  {
   "cell_type": "code",
   "execution_count": 201,
   "metadata": {},
   "outputs": [
    {
     "name": "stdout",
     "output_type": "stream",
     "text": [
      "9-SGD model score :  0.9071428571428571\n",
      "  SGD model score%:  90.71%: \n",
      "\n",
      "  SGD accuracy_score  :  0.9071428571428571\n",
      "  SGD accuracy_score% :  90.71% \n",
      "\n",
      "  Cross validation score: 91.71% \n",
      "  Execution time: 0.01098 seconds \n",
      "\n"
     ]
    }
   ],
   "source": [
    "\n",
    "\n",
    "\n",
    "\n",
    "# 9-Initialize SGD Classifier                                                \n",
    "from sklearn.linear_model import SGDClassifier\n",
    "start = time.time()\n",
    "model = SGDClassifier(max_iter=1000, tol=1e-3)    # you can modify SGDClassifier(.......) (shift+tab) \n",
    "model.fit(train, trainOutputData)\n",
    "prediction = model.predict(test)  \n",
    "scores = cross_val_score(model, X, y, cv=5)\n",
    "end = time.time()\n",
    "\n",
    "\n",
    "print(\"9-SGD model score : \",model.score(test,testOutputData))                       \n",
    "print(\"  SGD model score%:  {0:.2%}: \\n\".format(model.score(test,testOutputData)))   \n",
    "print(\"  SGD accuracy_score  : \",accuracy_score(prediction,testOutputData))          \n",
    "print(\"  SGD accuracy_score% :  {0:.2%} \\n\".format(accuracy_score(prediction,testOutputData)))\n",
    "print(\"  Cross validation score: {0:.2%} \" .format(np.mean(scores)))\n",
    "print(\"  Execution time: {0:.5} seconds \\n\".format(end-start))\n",
    "\n",
    "\n",
    "\n",
    "\n"
   ]
  },
  {
   "cell_type": "code",
   "execution_count": 202,
   "metadata": {},
   "outputs": [
    {
     "name": "stdout",
     "output_type": "stream",
     "text": [
      "10-MLP model score :  0.6714285714285714\n",
      "   MLPC model score%:  67.14%: \n",
      "\n",
      "   MLP accuracy_score  :  0.6714285714285714\n",
      "   MLP accuracy_score% :  67.14% \n",
      "\n",
      "   Cross validation score: 80.97% \n",
      "   Execution time: 0.28735 seconds \n",
      "\n"
     ]
    }
   ],
   "source": [
    "\n",
    "\n",
    "\n",
    "\n",
    "# 10-Initialize MLP Classifier                                                \n",
    "from sklearn.neural_network import MLPClassifier\n",
    "start = time.time()\n",
    "model = MLPClassifier(hidden_layer_sizes=(8,),alpha=1, max_iter=1000)  # you can modify MLPClassifier(..) (shift+tab)  \n",
    "model.fit(train, trainOutputData)\n",
    "prediction = model.predict(test)  \n",
    "scores = cross_val_score(model, X, y, cv=5)\n",
    "end = time.time()\n",
    "\n",
    "\n",
    "print(\"10-MLP model score : \",model.score(test,testOutputData))                       \n",
    "print(\"   MLPC model score%:  {0:.2%}: \\n\".format(model.score(test,testOutputData)))   \n",
    "print(\"   MLP accuracy_score  : \",accuracy_score(prediction,testOutputData))          \n",
    "print(\"   MLP accuracy_score% :  {0:.2%} \\n\".format(accuracy_score(prediction,testOutputData)))\n",
    "print(\"   Cross validation score: {0:.2%} \" .format(np.mean(scores)))\n",
    "print(\"   Execution time: {0:.5} seconds \\n\".format(end-start))\n",
    "\n",
    "\n",
    "\n",
    "\n"
   ]
  },
  {
   "cell_type": "code",
   "execution_count": 203,
   "metadata": {},
   "outputs": [
    {
     "name": "stdout",
     "output_type": "stream",
     "text": [
      "11-AdaBoost model score :  0.9428571428571428\n",
      "   AdaBoost model score%:  94.29%: \n",
      "\n",
      "   AdaBoost accuracy_score  :  0.9428571428571428\n",
      "   AdaBoost accuracy_score% :  94.29% \n",
      "\n",
      "   Cross validation score: 94.71% \n",
      "   Execution time: 0.43394 seconds \n",
      "\n"
     ]
    }
   ],
   "source": [
    "\n",
    "\n",
    "\n",
    "\n",
    "# 11-Initialize AdaBoost Classifier                                             \n",
    "from sklearn.ensemble import  AdaBoostClassifier\n",
    "start = time.time()\n",
    "model = AdaBoostClassifier()  # you can modify AdaBoostClassifier(..) (shift+tab)  \n",
    "model.fit(train, trainOutputData)\n",
    "prediction = model.predict(test)  \n",
    "scores = cross_val_score(model, X, y, cv=5)\n",
    "end = time.time()\n",
    "\n",
    "\n",
    "print(\"11-AdaBoost model score : \",model.score(test,testOutputData))                       \n",
    "print(\"   AdaBoost model score%:  {0:.2%}: \\n\".format(model.score(test,testOutputData)))   \n",
    "print(\"   AdaBoost accuracy_score  : \",accuracy_score(prediction,testOutputData))          \n",
    "print(\"   AdaBoost accuracy_score% :  {0:.2%} \\n\".format(accuracy_score(prediction,testOutputData)))\n",
    "print(\"   Cross validation score: {0:.2%} \" .format(np.mean(scores)))\n",
    "print(\"   Execution time: {0:.5} seconds \\n\".format(end-start))\n",
    "\n",
    "\n",
    "\n",
    "\n"
   ]
  },
  {
   "cell_type": "code",
   "execution_count": 204,
   "metadata": {},
   "outputs": [
    {
     "name": "stdout",
     "output_type": "stream",
     "text": [
      "12-GaussianProcess model score :  0.95\n",
      "   GaussianProcess model score%:  95.00%: \n",
      "\n",
      "   GaussianProcess accuracy_score  :  0.95\n",
      "   GaussianProcess accuracy_score% :  95.00% \n",
      "\n",
      "   Cross validation score: 96.28% \n",
      "   Execution time: 7.3479 seconds \n",
      "\n"
     ]
    }
   ],
   "source": [
    "\n",
    "\n",
    "\n",
    "\n",
    "# 12-Initialize GaussianProcess Classifier                                       \n",
    "from sklearn.gaussian_process import GaussianProcessClassifier\n",
    "start = time.time()\n",
    "model = GaussianProcessClassifier(1.0 * RBF(1.0))  # you can modify GaussianProcessClassifier(..) (shift+tab) \n",
    "model.fit(train, trainOutputData)\n",
    "prediction = model.predict(test)  \n",
    "scores = cross_val_score(model, X, y, cv=5)\n",
    "end = time.time()\n",
    "\n",
    "\n",
    "print(\"12-GaussianProcess model score : \",model.score(test,testOutputData))                       \n",
    "print(\"   GaussianProcess model score%:  {0:.2%}: \\n\".format(model.score(test,testOutputData)))   \n",
    "print(\"   GaussianProcess accuracy_score  : \",accuracy_score(prediction,testOutputData))          \n",
    "print(\"   GaussianProcess accuracy_score% :  {0:.2%} \\n\".format(accuracy_score(prediction,testOutputData)))\n",
    "print(\"   Cross validation score: {0:.2%} \" .format(np.mean(scores)))\n",
    "print(\"   Execution time: {0:.5} seconds \\n\".format(end-start))\n",
    "\n",
    "\n",
    "\n",
    "\n"
   ]
  },
  {
   "cell_type": "code",
   "execution_count": 205,
   "metadata": {},
   "outputs": [
    {
     "name": "stdout",
     "output_type": "stream",
     "text": [
      "13-DecisionTree model score :  0.9285714285714286\n",
      "   DecisionTree model score%:  92.86%: \n",
      "\n",
      "   DecisionTree accuracy_score  :  0.9285714285714286\n",
      "   DecisionTree accuracy_score% :  92.86% \n",
      "\n",
      "   Cross validation score: 94.56% \n",
      "   Execution time: 0.007978 seconds \n",
      "\n"
     ]
    }
   ],
   "source": [
    "\n",
    "\n",
    "\n",
    "\n",
    "# 13-Initialize DecisionTree Classifier                               \n",
    "from sklearn.tree import DecisionTreeClassifier\n",
    "start = time.time()\n",
    "model = DecisionTreeClassifier(max_depth=5)  # you can modify DecisionTreeClassifier(..) (shift+tab)  \n",
    "model.fit(train, trainOutputData)\n",
    "prediction = model.predict(test)  \n",
    "scores = cross_val_score(model, X, y, cv=5)\n",
    "end = time.time()\n",
    "\n",
    "\n",
    "print(\"13-DecisionTree model score : \",model.score(test,testOutputData))                    \n",
    "print(\"   DecisionTree model score%:  {0:.2%}: \\n\".format(model.score(test,testOutputData))) \n",
    "print(\"   DecisionTree accuracy_score  : \",accuracy_score(prediction,testOutputData))        \n",
    "print(\"   DecisionTree accuracy_score% :  {0:.2%} \\n\".format(accuracy_score(prediction,testOutputData)))\n",
    "print(\"   Cross validation score: {0:.2%} \" .format(np.mean(scores)))\n",
    "print(\"   Execution time: {0:.5} seconds \\n\".format(end-start))\n",
    "\n",
    "\n",
    "\n",
    "\n"
   ]
  },
  {
   "cell_type": "code",
   "execution_count": null,
   "metadata": {},
   "outputs": [],
   "source": []
  }
 ],
 "metadata": {
  "kernelspec": {
   "display_name": "Python 3",
   "language": "python",
   "name": "python3"
  },
  "language_info": {
   "codemirror_mode": {
    "name": "ipython",
    "version": 3
   },
   "file_extension": ".py",
   "mimetype": "text/x-python",
   "name": "python",
   "nbconvert_exporter": "python",
   "pygments_lexer": "ipython3",
   "version": "3.7.6"
  }
 },
 "nbformat": 4,
 "nbformat_minor": 4
}
